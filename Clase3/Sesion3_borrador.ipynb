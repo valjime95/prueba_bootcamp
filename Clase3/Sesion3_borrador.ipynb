{
  "nbformat": 4,
  "nbformat_minor": 0,
  "metadata": {
    "colab": {
      "provenance": []
    },
    "kernelspec": {
      "name": "python3",
      "display_name": "Python 3"
    },
    "language_info": {
      "name": "python"
    }
  },
  "cells": [
    {
      "cell_type": "markdown",
      "source": [
        "# Clase 3\n",
        "\n",
        "* Condicionales\n",
        "\n",
        "* Listas\n",
        "\n",
        "* **Diccionarios**\n",
        "\n",
        "* Loops\n",
        "\n",
        "# Header 1\n",
        "\n",
        "## Header 2\n",
        "\n",
        "### Header 3\n"
      ],
      "metadata": {
        "id": "TTAFXdr42_EU"
      }
    },
    {
      "cell_type": "markdown",
      "source": [
        "# Condicionales"
      ],
      "metadata": {
        "id": "sDJ4GByz32ce"
      }
    },
    {
      "cell_type": "code",
      "execution_count": 30,
      "metadata": {
        "id": "GkvNNk9l2zIb"
      },
      "outputs": [],
      "source": [
        "a = 2\n",
        "b = 5"
      ]
    },
    {
      "cell_type": "markdown",
      "source": [
        "# Pseudocódigo\n",
        "\n",
        "**Objetivo:**\n",
        "\n",
        "\n",
        " Si se cumple que a es mayor que b, entonces imprimir en pantalla  \"a es mayor que b\", si lo anterior no se cumple entonces imprimir b es mayor\n",
        "\n",
        "### Pseudocódigo\n",
        "\n",
        " Si se cumple a > b entonces\n",
        "\n",
        " Imprimir **a es mayor que b**\n",
        "\n",
        " Si no se cumple:\n",
        "\n",
        "  Imprimir **b es mayor o igual que a **"
      ],
      "metadata": {
        "id": "VlT2jSIK4i8X"
      }
    },
    {
      "cell_type": "code",
      "source": [
        "if a > b : # si se cumple\n",
        "\n",
        "  print(\"a es mayor que b\")\n",
        "\n",
        "else: # si no se cumple\n",
        "\n",
        "  print(\"b es mayor o igual que a\")\n"
      ],
      "metadata": {
        "colab": {
          "base_uri": "https://localhost:8080/"
        },
        "id": "xZWFcPZy35g3",
        "outputId": "0c5c8f48-ae1b-4598-e633-c806704c343c"
      },
      "execution_count": 5,
      "outputs": [
        {
          "output_type": "stream",
          "name": "stdout",
          "text": [
            "b es mayor o igual que a\n"
          ]
        }
      ]
    },
    {
      "cell_type": "markdown",
      "source": [
        "**Pseudocodigo**\n",
        "\n",
        "Si se cumple que a > b entonces imprime  \"a es mayor que b\"\n",
        "\n",
        "Si se cumple que a < b entonces imprime \"a es menor que b\"\n",
        "\n",
        "Si se cumple que a == b entonces imprime \"son iguales\"\n",
        "\n",
        "\n",
        "**Transformacion usando palabras reservadas**\n",
        "\n",
        "Si se cumple que a > b entonces imprime  \"a es mayor que b\" **if**\n",
        "\n",
        "Si se cumple que a < b entonces imprime \"a es menor que b\" **elif**\n",
        "\n",
        "Si se cumple que a == b entonces imprime \"son iguales\" **else**"
      ],
      "metadata": {
        "id": "SH1XnB4V6qSQ"
      }
    },
    {
      "cell_type": "code",
      "source": [
        "a = 2\n",
        "b = 5\n",
        "\n",
        "if a > b :\n",
        "  print(\"a es mayor que b\")\n",
        "  print(\"El valor de a es: \",a)\n",
        "  print(f\"El valor de b es: {b}\")\n",
        "\n",
        "elif a < b:\n",
        "  print(\"a es menor que b\")\n",
        "  print(\"El valor de a es: \",a)\n",
        "  print(f\"El valor de b es: {b}\")\n",
        "\n",
        "else:\n",
        "  print(\"son iguales\")\n",
        "  print(f\"El valor de a y b es {a}\")\n"
      ],
      "metadata": {
        "colab": {
          "base_uri": "https://localhost:8080/"
        },
        "id": "nOuDwa-D6AHL",
        "outputId": "362b08fe-b1aa-4e0e-8aa1-2cbbad3c5a53"
      },
      "execution_count": 20,
      "outputs": [
        {
          "output_type": "stream",
          "name": "stdout",
          "text": [
            "a es menor que b\n",
            "El valor de a es:  2\n",
            "El valor de b es: 5\n"
          ]
        }
      ]
    },
    {
      "cell_type": "code",
      "source": [
        "a = 5\n",
        "b = 20\n",
        "c = 20\n",
        "\n",
        "# multiples operador usando \"and\"\n",
        "\n",
        "if (a > b) and (a > c): # T and T --> T\n",
        "  print(\"a es el mayor\")\n",
        "\n",
        "elif (b > a) and (b > c):\n",
        "  print(\"b es el mayor\")\n",
        "\n",
        "elif (c > a) and (c > b):\n",
        "  print(\"c es el mayor\")\n",
        "\n",
        "else:\n",
        "  print(\"Algunas de los variables son iguales\")"
      ],
      "metadata": {
        "colab": {
          "base_uri": "https://localhost:8080/"
        },
        "id": "vGzbdobt-Nhz",
        "outputId": "e58886d8-176b-41c5-9960-2491b6c59280"
      },
      "execution_count": 24,
      "outputs": [
        {
          "output_type": "stream",
          "name": "stdout",
          "text": [
            "c es el mayor\n"
          ]
        }
      ]
    },
    {
      "cell_type": "markdown",
      "source": [
        "# Condicionales anidados"
      ],
      "metadata": {
        "id": "uwt_qat3Bwnf"
      }
    },
    {
      "cell_type": "code",
      "source": [
        "a = input(\"Puedes darme un número entero por favor \")\n",
        "b = input(\"Puedes darme otro número entero por favor \")\n",
        "\n",
        "# castear --> cambiar el tipo de dato\n",
        "\n",
        "# de lo anterior vamos a recibir cadenas de texto, entonces vamos a cambiar el tipo de dato a entero\n",
        "\n",
        "#print(type(a))\n",
        "\n",
        "# vamos a caster nuestras variables a y b (que son strings) a enteros (int)\n",
        "\n",
        "a = int(a)\n",
        "b = int(b)\n",
        "\n",
        "print(type(a))"
      ],
      "metadata": {
        "colab": {
          "base_uri": "https://localhost:8080/"
        },
        "id": "_aRjTzi5Jkwc",
        "outputId": "f247b6cf-38c8-49df-d91f-c1aaba656e32"
      },
      "execution_count": 27,
      "outputs": [
        {
          "output_type": "stream",
          "name": "stdout",
          "text": [
            "Puedes darme un número entero por favor 30\n",
            "Puedes darme otro número entero por favor 20\n",
            "<class 'str'>\n",
            "<class 'int'>\n"
          ]
        }
      ]
    },
    {
      "cell_type": "code",
      "source": [
        "print(a)\n",
        "print(b)"
      ],
      "metadata": {
        "colab": {
          "base_uri": "https://localhost:8080/"
        },
        "id": "dBwG-1_wKmUR",
        "outputId": "23915afd-2baf-4aa5-fbce-1ea2b8ee6e41"
      },
      "execution_count": 28,
      "outputs": [
        {
          "output_type": "stream",
          "name": "stdout",
          "text": [
            "30\n",
            "20\n"
          ]
        }
      ]
    },
    {
      "cell_type": "code",
      "source": [],
      "metadata": {
        "id": "oqg61Vm4Kr8L"
      },
      "execution_count": null,
      "outputs": []
    },
    {
      "cell_type": "code",
      "source": [
        "a = int(input(\"Puedes darme un número entero por favor \"))\n",
        "b = int(input(\"Puedes darme otro número entero por favor \"))\n",
        "\n",
        "if a != b: # a es distinto de b\n",
        "\n",
        "  if a > b:\n",
        "    print(\"a es mayor que b\")\n",
        "\n",
        "  else:\n",
        "    print(\"b es mayor que a\")\n",
        "\n",
        "else: # si son iguales\n",
        "  print(\"son iguales\")\n"
      ],
      "metadata": {
        "colab": {
          "base_uri": "https://localhost:8080/"
        },
        "id": "6uoMP5_9Bv9m",
        "outputId": "670c78fd-6d53-4639-aa77-cf4b370c0a15"
      },
      "execution_count": 29,
      "outputs": [
        {
          "output_type": "stream",
          "name": "stdout",
          "text": [
            "Puedes darme un número entero por favor 56\n",
            "Puedes darme otro número entero por favor 34\n",
            "a es mayor que b\n"
          ]
        }
      ]
    },
    {
      "cell_type": "markdown",
      "source": [
        "## Listas"
      ],
      "metadata": {
        "id": "94y61TrwK_IJ"
      }
    },
    {
      "cell_type": "code",
      "source": [
        "ejemplo = [1, \"a\", True]\n",
        "ejemplo2 = [10, 11, 12]\n",
        "\n",
        "type(ejemplo)\n"
      ],
      "metadata": {
        "colab": {
          "base_uri": "https://localhost:8080/"
        },
        "id": "sXgt41FaGUPQ",
        "outputId": "c8388e1f-7097-44a2-9b63-42c9254e2e9d"
      },
      "execution_count": 31,
      "outputs": [
        {
          "output_type": "execute_result",
          "data": {
            "text/plain": [
              "list"
            ]
          },
          "metadata": {},
          "execution_count": 31
        }
      ]
    },
    {
      "cell_type": "code",
      "source": [],
      "metadata": {
        "id": "ZhOz2lJLNbpF"
      },
      "execution_count": null,
      "outputs": []
    },
    {
      "cell_type": "code",
      "source": [
        "string_list = [\"v\",\"a\",\"l\",\"e\",\"r\",\"i\",\"a\",\"j\"]"
      ],
      "metadata": {
        "id": "tR4LeKuBL9-D"
      },
      "execution_count": 35,
      "outputs": []
    },
    {
      "cell_type": "code",
      "source": [
        "#primer elemento\n",
        "string_list[0]"
      ],
      "metadata": {
        "colab": {
          "base_uri": "https://localhost:8080/",
          "height": 35
        },
        "id": "9WcsPqUhMXWD",
        "outputId": "8f733c01-64ce-40e4-bc7b-dd0b5c5ed0f3"
      },
      "execution_count": 33,
      "outputs": [
        {
          "output_type": "execute_result",
          "data": {
            "text/plain": [
              "'v'"
            ],
            "application/vnd.google.colaboratory.intrinsic+json": {
              "type": "string"
            }
          },
          "metadata": {},
          "execution_count": 33
        }
      ]
    },
    {
      "cell_type": "code",
      "source": [
        "prueba = ['himanshu', 'aggarwal', 'ironhack', 'data analysis']"
      ],
      "metadata": {
        "id": "VOpqx-WDMvkt"
      },
      "execution_count": 41,
      "outputs": []
    },
    {
      "cell_type": "code",
      "source": [
        "prueba[-2]"
      ],
      "metadata": {
        "colab": {
          "base_uri": "https://localhost:8080/",
          "height": 35
        },
        "id": "4uHaPhHHMXdj",
        "outputId": "a1f4eb0e-89ec-489a-a902-9b6bca5fbf0e"
      },
      "execution_count": 44,
      "outputs": [
        {
          "output_type": "execute_result",
          "data": {
            "text/plain": [
              "'ironhack'"
            ],
            "application/vnd.google.colaboratory.intrinsic+json": {
              "type": "string"
            }
          },
          "metadata": {},
          "execution_count": 44
        }
      ]
    },
    {
      "cell_type": "code",
      "source": [
        "# longitud de la lista ---> numero de elementos\n",
        "\n",
        "len(prueba)"
      ],
      "metadata": {
        "colab": {
          "base_uri": "https://localhost:8080/"
        },
        "id": "cdN2W36WMXim",
        "outputId": "be432d90-50a6-4b0d-b18d-d6ad4cec2be6"
      },
      "execution_count": 45,
      "outputs": [
        {
          "output_type": "execute_result",
          "data": {
            "text/plain": [
              "4"
            ]
          },
          "metadata": {},
          "execution_count": 45
        }
      ]
    },
    {
      "cell_type": "code",
      "source": [
        "string_list = [\"v\",\"a\",\"l\",\"e\",\"r\",\"i\",\"a\",\"j\"]\n",
        "\n",
        "len(string_list)"
      ],
      "metadata": {
        "colab": {
          "base_uri": "https://localhost:8080/"
        },
        "id": "vJon43BfMXpf",
        "outputId": "0de48163-e620-47ce-a195-5156c085c7a1"
      },
      "execution_count": 51,
      "outputs": [
        {
          "output_type": "execute_result",
          "data": {
            "text/plain": [
              "8"
            ]
          },
          "metadata": {},
          "execution_count": 51
        }
      ]
    },
    {
      "cell_type": "code",
      "source": [
        "string_list[7]"
      ],
      "metadata": {
        "colab": {
          "base_uri": "https://localhost:8080/",
          "height": 35
        },
        "id": "Wr9J6WsVN_Lt",
        "outputId": "9f90551d-d99a-44dc-b586-ae5b6fc35c22"
      },
      "execution_count": 52,
      "outputs": [
        {
          "output_type": "execute_result",
          "data": {
            "text/plain": [
              "'j'"
            ],
            "application/vnd.google.colaboratory.intrinsic+json": {
              "type": "string"
            }
          },
          "metadata": {},
          "execution_count": 52
        }
      ]
    },
    {
      "cell_type": "code",
      "source": [
        "string_list[len(string_list)-1]"
      ],
      "metadata": {
        "colab": {
          "base_uri": "https://localhost:8080/",
          "height": 35
        },
        "id": "GG8X4nj3OLvj",
        "outputId": "ab3a23f8-0af7-4ae9-d174-9d56a7360bf7"
      },
      "execution_count": 55,
      "outputs": [
        {
          "output_type": "execute_result",
          "data": {
            "text/plain": [
              "'a'"
            ],
            "application/vnd.google.colaboratory.intrinsic+json": {
              "type": "string"
            }
          },
          "metadata": {},
          "execution_count": 55
        }
      ]
    },
    {
      "cell_type": "code",
      "source": [
        "len(string_list)-1"
      ],
      "metadata": {
        "colab": {
          "base_uri": "https://localhost:8080/"
        },
        "id": "eA1FKO6nORgN",
        "outputId": "d0e1d49c-879e-46f9-8aaa-5dd658903d77"
      },
      "execution_count": 54,
      "outputs": [
        {
          "output_type": "execute_result",
          "data": {
            "text/plain": [
              "7"
            ]
          },
          "metadata": {},
          "execution_count": 54
        }
      ]
    },
    {
      "cell_type": "code",
      "source": [
        "string_list[-1] = \"jimeno\"\n",
        "\n",
        "string_list"
      ],
      "metadata": {
        "colab": {
          "base_uri": "https://localhost:8080/"
        },
        "id": "nFUpmqayNj4X",
        "outputId": "de82c38c-7164-47a4-d7d0-cabdf7606ea3"
      },
      "execution_count": 56,
      "outputs": [
        {
          "output_type": "execute_result",
          "data": {
            "text/plain": [
              "['v', 'a', 'l', 'e', 'r', 'i', 'a', 'jimeno']"
            ]
          },
          "metadata": {},
          "execution_count": 56
        }
      ]
    },
    {
      "cell_type": "code",
      "source": [
        "string_list[0] = \"V\"\n",
        "\n",
        "string_list"
      ],
      "metadata": {
        "colab": {
          "base_uri": "https://localhost:8080/"
        },
        "id": "pNvEYjbMNzU5",
        "outputId": "fcfca9c6-260e-4f26-e2de-29cd6a223b43"
      },
      "execution_count": 57,
      "outputs": [
        {
          "output_type": "execute_result",
          "data": {
            "text/plain": [
              "['V', 'a', 'l', 'e', 'r', 'i', 'a', 'jimeno']"
            ]
          },
          "metadata": {},
          "execution_count": 57
        }
      ]
    },
    {
      "cell_type": "code",
      "source": [
        "# funcion index\n",
        "\n",
        "string_list.index(\"r\") # el elemento \"r\" esta en el indice 4"
      ],
      "metadata": {
        "colab": {
          "base_uri": "https://localhost:8080/"
        },
        "id": "NaAgSRQtN7h_",
        "outputId": "7576f3a9-dcf0-43d1-964a-d53c2597102c"
      },
      "execution_count": 58,
      "outputs": [
        {
          "output_type": "execute_result",
          "data": {
            "text/plain": [
              "4"
            ]
          },
          "metadata": {},
          "execution_count": 58
        }
      ]
    },
    {
      "cell_type": "code",
      "source": [
        "string_list.index(\"l\")"
      ],
      "metadata": {
        "colab": {
          "base_uri": "https://localhost:8080/"
        },
        "id": "YWYgfMlEPCyQ",
        "outputId": "e33c25e8-0f9a-492e-f391-1ce72008bb54"
      },
      "execution_count": 59,
      "outputs": [
        {
          "output_type": "execute_result",
          "data": {
            "text/plain": [
              "2"
            ]
          },
          "metadata": {},
          "execution_count": 59
        }
      ]
    },
    {
      "cell_type": "code",
      "source": [
        "# solo regresa la primera ocurrencia\n",
        "string_list.index(\"a\") # indice 1"
      ],
      "metadata": {
        "colab": {
          "base_uri": "https://localhost:8080/"
        },
        "id": "fJPwN6vaPNa8",
        "outputId": "42cc2672-7b4e-4f77-d2a2-e6cd83e6a4ad"
      },
      "execution_count": 60,
      "outputs": [
        {
          "output_type": "execute_result",
          "data": {
            "text/plain": [
              "1"
            ]
          },
          "metadata": {},
          "execution_count": 60
        }
      ]
    },
    {
      "cell_type": "code",
      "source": [
        "string_list"
      ],
      "metadata": {
        "colab": {
          "base_uri": "https://localhost:8080/"
        },
        "id": "sivoi1RcP7w5",
        "outputId": "bf709025-1e01-441a-a629-6045c14e2381"
      },
      "execution_count": 61,
      "outputs": [
        {
          "output_type": "execute_result",
          "data": {
            "text/plain": [
              "['V', 'a', 'l', 'e', 'r', 'i', 'a', 'jimeno']"
            ]
          },
          "metadata": {},
          "execution_count": 61
        }
      ]
    },
    {
      "cell_type": "code",
      "source": [
        "# append: agregamos elementos\n",
        "\n",
        "\n",
        "string_list.append(\"villegas\")\n"
      ],
      "metadata": {
        "id": "ucGLy-2JPfjz"
      },
      "execution_count": 62,
      "outputs": []
    },
    {
      "cell_type": "code",
      "source": [
        "# pop: eliminar el ultimo elemento\n",
        "\n",
        "string_list.pop()"
      ],
      "metadata": {
        "colab": {
          "base_uri": "https://localhost:8080/",
          "height": 35
        },
        "id": "W1Abos5LP-n7",
        "outputId": "541d14ad-6e64-4485-a983-561ee19f099c"
      },
      "execution_count": 64,
      "outputs": [
        {
          "output_type": "execute_result",
          "data": {
            "text/plain": [
              "'villegas'"
            ],
            "application/vnd.google.colaboratory.intrinsic+json": {
              "type": "string"
            }
          },
          "metadata": {},
          "execution_count": 64
        }
      ]
    },
    {
      "cell_type": "code",
      "source": [
        "string_list"
      ],
      "metadata": {
        "colab": {
          "base_uri": "https://localhost:8080/"
        },
        "id": "LZkj4YceQXLB",
        "outputId": "1debf277-8eb1-4e5e-c2a4-d37fc08f6e19"
      },
      "execution_count": 65,
      "outputs": [
        {
          "output_type": "execute_result",
          "data": {
            "text/plain": [
              "['V', 'a', 'l', 'e', 'r', 'i', 'a', 'jimeno']"
            ]
          },
          "metadata": {},
          "execution_count": 65
        }
      ]
    },
    {
      "cell_type": "code",
      "source": [
        "string_list[2:]"
      ],
      "metadata": {
        "colab": {
          "base_uri": "https://localhost:8080/"
        },
        "id": "9olX9ggjQkeJ",
        "outputId": "8c987cc5-6a4a-4bfc-8dda-452578097831"
      },
      "execution_count": 67,
      "outputs": [
        {
          "output_type": "execute_result",
          "data": {
            "text/plain": [
              "['l', 'e', 'r', 'i', 'a', 'jimeno']"
            ]
          },
          "metadata": {},
          "execution_count": 67
        }
      ]
    },
    {
      "cell_type": "code",
      "source": [
        "string_list[4:]"
      ],
      "metadata": {
        "colab": {
          "base_uri": "https://localhost:8080/"
        },
        "id": "PD8jFrQ2Q2Vz",
        "outputId": "8dabae15-145d-4f20-896a-fbb9a8c1b815"
      },
      "execution_count": 68,
      "outputs": [
        {
          "output_type": "execute_result",
          "data": {
            "text/plain": [
              "['r', 'i', 'a', 'jimeno']"
            ]
          },
          "metadata": {},
          "execution_count": 68
        }
      ]
    },
    {
      "cell_type": "code",
      "source": [
        "#tring_list[4:(6+1)]\n",
        "string_list[-3:]"
      ],
      "metadata": {
        "colab": {
          "base_uri": "https://localhost:8080/"
        },
        "id": "XrjF0FukQ_4E",
        "outputId": "5cb44c4a-ac08-409e-a24f-a6e4f625110d"
      },
      "execution_count": 75,
      "outputs": [
        {
          "output_type": "execute_result",
          "data": {
            "text/plain": [
              "['i', 'a', 'jimeno']"
            ]
          },
          "metadata": {},
          "execution_count": 75
        }
      ]
    },
    {
      "cell_type": "code",
      "source": [
        "#[start:stop:step]"
      ],
      "metadata": {
        "id": "sDnDFKYZSLKQ"
      },
      "execution_count": null,
      "outputs": []
    },
    {
      "cell_type": "code",
      "source": [
        "lista_nums = [0,1,2,3,4,5,6,7,8,9,10]"
      ],
      "metadata": {
        "id": "f2Nz2QwTSPNa"
      },
      "execution_count": 76,
      "outputs": []
    },
    {
      "cell_type": "code",
      "source": [
        "lista_nums[1:7:2]"
      ],
      "metadata": {
        "colab": {
          "base_uri": "https://localhost:8080/"
        },
        "id": "kE1Kt0zuSU-j",
        "outputId": "e06d88f4-835d-4245-932e-f3c080ae205a"
      },
      "execution_count": 78,
      "outputs": [
        {
          "output_type": "execute_result",
          "data": {
            "text/plain": [
              "[1, 3, 5]"
            ]
          },
          "metadata": {},
          "execution_count": 78
        }
      ]
    },
    {
      "cell_type": "code",
      "source": [
        "start = -10\n",
        "stop = -1\n",
        "step = 2\n",
        "list(range(start, stop, step))"
      ],
      "metadata": {
        "colab": {
          "base_uri": "https://localhost:8080/"
        },
        "id": "GC5AptODSjU7",
        "outputId": "94c773ab-d509-4792-df78-5a75a7f93845"
      },
      "execution_count": 82,
      "outputs": [
        {
          "output_type": "execute_result",
          "data": {
            "text/plain": [
              "[-10, -8, -6, -4, -2]"
            ]
          },
          "metadata": {},
          "execution_count": 82
        }
      ]
    },
    {
      "cell_type": "code",
      "source": [
        "range(start, stop, step)"
      ],
      "metadata": {
        "colab": {
          "base_uri": "https://localhost:8080/"
        },
        "id": "Kxul2I-4Su1N",
        "outputId": "73b01695-8a54-4f32-aa4f-a2097412f18f"
      },
      "execution_count": 80,
      "outputs": [
        {
          "output_type": "execute_result",
          "data": {
            "text/plain": [
              "range(1, 10, 2)"
            ]
          },
          "metadata": {},
          "execution_count": 80
        }
      ]
    },
    {
      "cell_type": "markdown",
      "source": [
        "# Diccionarios"
      ],
      "metadata": {
        "id": "fQH4FwLwSATa"
      }
    },
    {
      "cell_type": "code",
      "source": [
        "# {key:value, key2:value2,.....}"
      ],
      "metadata": {
        "id": "HAVHXff4R_L1"
      },
      "execution_count": null,
      "outputs": []
    },
    {
      "cell_type": "code",
      "source": [
        "contactos = {\n",
        "    \"valeria\": \"5555555\",\n",
        "    \"luis\":\"6666666\",\n",
        "    \"mariana\":\"8888888\"\n",
        "}"
      ],
      "metadata": {
        "id": "-S6C3NvtTNjd"
      },
      "execution_count": 83,
      "outputs": []
    },
    {
      "cell_type": "code",
      "source": [
        "# acceder al contacto de valeria\n",
        "\n",
        "\n",
        "contactos[\"valeria\"]"
      ],
      "metadata": {
        "colab": {
          "base_uri": "https://localhost:8080/",
          "height": 35
        },
        "id": "kxjhBScATeCt",
        "outputId": "48efd620-b7e6-4d86-8e3a-3c81eabce10b"
      },
      "execution_count": 84,
      "outputs": [
        {
          "output_type": "execute_result",
          "data": {
            "text/plain": [
              "'5555555'"
            ],
            "application/vnd.google.colaboratory.intrinsic+json": {
              "type": "string"
            }
          },
          "metadata": {},
          "execution_count": 84
        }
      ]
    },
    {
      "cell_type": "code",
      "source": [
        "# cambiar el contacto de valeria\n",
        "\n",
        "\n",
        "contactos[\"valeria\"] = int(contactos[\"valeria\"])\n",
        "\n",
        "contactos"
      ],
      "metadata": {
        "colab": {
          "base_uri": "https://localhost:8080/"
        },
        "id": "p6eglY5STnuR",
        "outputId": "fabe98df-665f-43d7-cf35-afa23549f046"
      },
      "execution_count": 85,
      "outputs": [
        {
          "output_type": "execute_result",
          "data": {
            "text/plain": [
              "{'valeria': 5555555, 'luis': '6666666', 'mariana': '8888888'}"
            ]
          },
          "metadata": {},
          "execution_count": 85
        }
      ]
    },
    {
      "cell_type": "code",
      "source": [
        "contactos[\"Valeria\"]"
      ],
      "metadata": {
        "colab": {
          "base_uri": "https://localhost:8080/",
          "height": 139
        },
        "id": "CgLChr6jT05W",
        "outputId": "30db1e76-0063-4f5c-e675-19c8bd3cb815"
      },
      "execution_count": 86,
      "outputs": [
        {
          "output_type": "error",
          "ename": "KeyError",
          "evalue": "'Valeria'",
          "traceback": [
            "\u001b[0;31m---------------------------------------------------------------------------\u001b[0m",
            "\u001b[0;31mKeyError\u001b[0m                                  Traceback (most recent call last)",
            "\u001b[0;32m<ipython-input-86-4733661b65c0>\u001b[0m in \u001b[0;36m<cell line: 1>\u001b[0;34m()\u001b[0m\n\u001b[0;32m----> 1\u001b[0;31m \u001b[0mcontactos\u001b[0m\u001b[0;34m[\u001b[0m\u001b[0;34m\"Valeria\"\u001b[0m\u001b[0;34m]\u001b[0m\u001b[0;34m\u001b[0m\u001b[0;34m\u001b[0m\u001b[0m\n\u001b[0m",
            "\u001b[0;31mKeyError\u001b[0m: 'Valeria'"
          ]
        }
      ]
    },
    {
      "cell_type": "code",
      "source": [
        "# para saber las keys que tiene mi diccionario\n",
        "contactos.keys()"
      ],
      "metadata": {
        "colab": {
          "base_uri": "https://localhost:8080/"
        },
        "id": "pXBXqBnoT59v",
        "outputId": "c4d19aca-273b-4415-aa9f-f0b6dd4d5b1b"
      },
      "execution_count": 87,
      "outputs": [
        {
          "output_type": "execute_result",
          "data": {
            "text/plain": [
              "dict_keys(['valeria', 'luis', 'mariana'])"
            ]
          },
          "metadata": {},
          "execution_count": 87
        }
      ]
    },
    {
      "cell_type": "code",
      "source": [
        "contactos.values()"
      ],
      "metadata": {
        "colab": {
          "base_uri": "https://localhost:8080/"
        },
        "id": "ll5JAeQ2UESH",
        "outputId": "3e28fbae-d58a-4cd7-eddd-d918c891cfe9"
      },
      "execution_count": 88,
      "outputs": [
        {
          "output_type": "execute_result",
          "data": {
            "text/plain": [
              "dict_values([5555555, '6666666', '8888888'])"
            ]
          },
          "metadata": {},
          "execution_count": 88
        }
      ]
    },
    {
      "cell_type": "code",
      "source": [
        "type(contactos.keys())"
      ],
      "metadata": {
        "colab": {
          "base_uri": "https://localhost:8080/"
        },
        "id": "QTkI3FjZUakK",
        "outputId": "487347ba-e471-4a25-b97f-be1b58be0483"
      },
      "execution_count": 92,
      "outputs": [
        {
          "output_type": "execute_result",
          "data": {
            "text/plain": [
              "dict_keys"
            ]
          },
          "metadata": {},
          "execution_count": 92
        }
      ]
    },
    {
      "cell_type": "code",
      "source": [
        "# acceder a la primera key\n",
        "list_keys_contactos = list(contactos.keys())\n",
        "list_keys_contactos[0]"
      ],
      "metadata": {
        "colab": {
          "base_uri": "https://localhost:8080/",
          "height": 35
        },
        "id": "bByvfwxiUM_i",
        "outputId": "06094a05-f508-4ff5-8f6b-d8fb07c62fdb"
      },
      "execution_count": 93,
      "outputs": [
        {
          "output_type": "execute_result",
          "data": {
            "text/plain": [
              "'valeria'"
            ],
            "application/vnd.google.colaboratory.intrinsic+json": {
              "type": "string"
            }
          },
          "metadata": {},
          "execution_count": 93
        }
      ]
    },
    {
      "cell_type": "code",
      "source": [
        "dict_comp = {\n",
        "    \"nombre\":\"valeria\",\n",
        "    \"edad\":29,\n",
        "    \"lenguajes\": [\"python\",\"R\",\"prolog\",\"java\"],\n",
        "    \"materias\":{\n",
        "        \"algoritmos\":9,\n",
        "        \"redes\":5,\n",
        "        \"seminario\":10\n",
        "    }\n",
        "}"
      ],
      "metadata": {
        "id": "X1QF4KyBUtnV"
      },
      "execution_count": 95,
      "outputs": []
    },
    {
      "cell_type": "code",
      "source": [
        "dict_comp.keys()"
      ],
      "metadata": {
        "colab": {
          "base_uri": "https://localhost:8080/"
        },
        "id": "F-gyDbtiVO5j",
        "outputId": "b194e130-2e97-4c0f-81e5-863bbe710f2a"
      },
      "execution_count": 96,
      "outputs": [
        {
          "output_type": "execute_result",
          "data": {
            "text/plain": [
              "dict_keys(['nombre', 'edad', 'lenguajes', 'materias'])"
            ]
          },
          "metadata": {},
          "execution_count": 96
        }
      ]
    },
    {
      "cell_type": "code",
      "source": [
        "dict_comp[\"nombre\"]"
      ],
      "metadata": {
        "colab": {
          "base_uri": "https://localhost:8080/",
          "height": 35
        },
        "id": "-wLZrvHgVUbm",
        "outputId": "51e4338d-277b-4819-fe7e-ec165c0a4a89"
      },
      "execution_count": 97,
      "outputs": [
        {
          "output_type": "execute_result",
          "data": {
            "text/plain": [
              "'valeria'"
            ],
            "application/vnd.google.colaboratory.intrinsic+json": {
              "type": "string"
            }
          },
          "metadata": {},
          "execution_count": 97
        }
      ]
    },
    {
      "cell_type": "code",
      "source": [],
      "metadata": {
        "id": "f5Hh3FN_WXGf"
      },
      "execution_count": null,
      "outputs": []
    },
    {
      "cell_type": "code",
      "source": [
        "dict_comp[\"lenguajes\"][-1]"
      ],
      "metadata": {
        "colab": {
          "base_uri": "https://localhost:8080/",
          "height": 35
        },
        "id": "UbLrcjoIVXHi",
        "outputId": "d2210ad3-55bc-4809-ac20-c9bb6b9c222a"
      },
      "execution_count": 99,
      "outputs": [
        {
          "output_type": "execute_result",
          "data": {
            "text/plain": [
              "'java'"
            ],
            "application/vnd.google.colaboratory.intrinsic+json": {
              "type": "string"
            }
          },
          "metadata": {},
          "execution_count": 99
        }
      ]
    },
    {
      "cell_type": "code",
      "source": [
        "dict_comp = {\n",
        "    \"nombre\":\"valeria\",\n",
        "    \"edad\":29,\n",
        "    \"lenguajes\": [\"python\",\"R\",\"prolog\",\"java\"],\n",
        "    \"materias\":{\n",
        "        \"algoritmos\":9,\n",
        "        \"redes\":5,\n",
        "        \"seminario\":10\n",
        "    }\n",
        "}"
      ],
      "metadata": {
        "id": "bh0mY2iIWZtC"
      },
      "execution_count": 100,
      "outputs": []
    },
    {
      "cell_type": "code",
      "source": [
        "dict_comp[\"materias\"].keys()"
      ],
      "metadata": {
        "colab": {
          "base_uri": "https://localhost:8080/"
        },
        "id": "fQTXhVNGWaoq",
        "outputId": "192a7584-6d84-4ef3-bc4e-03072b47e982"
      },
      "execution_count": 102,
      "outputs": [
        {
          "output_type": "execute_result",
          "data": {
            "text/plain": [
              "dict_keys(['algoritmos', 'redes', 'seminario'])"
            ]
          },
          "metadata": {},
          "execution_count": 102
        }
      ]
    },
    {
      "cell_type": "code",
      "source": [
        "dict_comp[\"redes\"]"
      ],
      "metadata": {
        "colab": {
          "base_uri": "https://localhost:8080/",
          "height": 139
        },
        "id": "-fk4Y767WkkB",
        "outputId": "70f62aa0-4f07-4732-8030-09aa0291d7be"
      },
      "execution_count": 104,
      "outputs": [
        {
          "output_type": "error",
          "ename": "KeyError",
          "evalue": "'redes'",
          "traceback": [
            "\u001b[0;31m---------------------------------------------------------------------------\u001b[0m",
            "\u001b[0;31mKeyError\u001b[0m                                  Traceback (most recent call last)",
            "\u001b[0;32m<ipython-input-104-aa2f3b14cfb3>\u001b[0m in \u001b[0;36m<cell line: 1>\u001b[0;34m()\u001b[0m\n\u001b[0;32m----> 1\u001b[0;31m \u001b[0mdict_comp\u001b[0m\u001b[0;34m[\u001b[0m\u001b[0;34m\"redes\"\u001b[0m\u001b[0;34m]\u001b[0m\u001b[0;34m\u001b[0m\u001b[0;34m\u001b[0m\u001b[0m\n\u001b[0m",
            "\u001b[0;31mKeyError\u001b[0m: 'redes'"
          ]
        }
      ]
    },
    {
      "cell_type": "code",
      "source": [
        "dict_comp[\"materias\"][\"redes\"]"
      ],
      "metadata": {
        "colab": {
          "base_uri": "https://localhost:8080/"
        },
        "id": "msH39flRWsmn",
        "outputId": "f47c1be3-52b5-4acc-ded8-39c2ec15f1bc"
      },
      "execution_count": 106,
      "outputs": [
        {
          "output_type": "execute_result",
          "data": {
            "text/plain": [
              "5"
            ]
          },
          "metadata": {},
          "execution_count": 106
        }
      ]
    },
    {
      "cell_type": "code",
      "source": [
        "dict_comp[\"materias\"][\"algoritmos\"]"
      ],
      "metadata": {
        "colab": {
          "base_uri": "https://localhost:8080/"
        },
        "id": "XHMKUjwYWx5-",
        "outputId": "e2601d57-aca9-419e-e5e4-3ac64c110ccf"
      },
      "execution_count": 107,
      "outputs": [
        {
          "output_type": "execute_result",
          "data": {
            "text/plain": [
              "9"
            ]
          },
          "metadata": {},
          "execution_count": 107
        }
      ]
    }
  ]
}